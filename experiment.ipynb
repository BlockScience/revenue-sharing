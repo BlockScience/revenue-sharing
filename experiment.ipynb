{
 "cells": [
  {
   "cell_type": "markdown",
   "metadata": {},
   "source": [
    "# cadCAD Experiment\n",
    "Over 500 timesteps, money comes in to the system each timestep and is distributed to delegators according to the proportion of shares they have bought.  The share price and number are tied to a bonding curve.  \n",
    "\n",
    "They purchase shares in the system according to their belief of the future revenue streams."
   ]
  },
  {
   "cell_type": "code",
   "execution_count": null,
   "metadata": {
    "tags": []
   },
   "outputs": [],
   "source": [
    "# if this crashes, run this:\n",
    "# pip install ipython-autotime\n",
    "%load_ext autotime\n",
    "%load_ext autoreload\n",
    "%autoreload 2\n",
    "import sys\n",
    "sys.path.append(\"..\")\n",
    "\n",
    "\n",
    "\n"
   ]
  },
  {
   "cell_type": "code",
   "execution_count": null,
   "metadata": {},
   "outputs": [],
   "source": [
    "import matplotlib.pyplot as plt\n",
    "from model.run import run\n",
    "\n",
    "# df = run()\n"
   ]
  },
  {
   "cell_type": "code",
   "execution_count": null,
   "metadata": {},
   "outputs": [],
   "source": [
    "from cadCAD_tools import profile_run\n",
    "\n",
    "from model.psub import psubs\n",
    "from model.state import genesis_state\n",
    "from model.config import simulation_config\n",
    "from model.config import params\n",
    "\n",
    "TIMESTEPS = len(simulation_config[0]['T'])\n",
    "SAMPLES = simulation_config[0]['N'] \n",
    "# df = run()\n",
    "df = profile_run(genesis_state,\n",
    "                 params,\n",
    "                 psubs,\n",
    "                 TIMESTEPS,\n",
    "                 SAMPLES)\n",
    "\n",
    "from cadCAD_tools.profiling.visualizations import visualize_substep_impact\n",
    "\n",
    "visualize_substep_impact(df, relative=True)\n"
   ]
  },
  {
   "cell_type": "code",
   "execution_count": null,
   "metadata": {},
   "outputs": [],
   "source": [
    "\n"
   ]
  },
  {
   "cell_type": "code",
   "execution_count": null,
   "metadata": {},
   "outputs": [],
   "source": [
    "df"
   ]
  },
  {
   "cell_type": "markdown",
   "metadata": {},
   "source": [
    "# Revenue coming in each period.  \n",
    "## Mean is a parameter, currently 7\n",
    "## It's exponentially distributed."
   ]
  },
  {
   "cell_type": "code",
   "execution_count": null,
   "metadata": {},
   "outputs": [],
   "source": [
    "df.period_revenue.plot()"
   ]
  },
  {
   "cell_type": "markdown",
   "metadata": {},
   "source": [
    "# Cumulative Claimed Rewards\n",
    "This shows that the cumulative rewards continues to rise even though each delegator eventually leaves the system and their rewards become fixed.  They are of similar heights (ie. same rewards) because they all use the same policies to join and leave."
   ]
  },
  {
   "cell_type": "code",
   "execution_count": null,
   "metadata": {},
   "outputs": [],
   "source": [
    "import pandas as pd\n",
    "df1 = df.reset_index().delegators\n",
    "\n",
    "delegator_revenue_token_holdings = {}\n",
    "delegator_shares = {}\n",
    "timestep = 0\n",
    "for delegator_dict in df1:\n",
    "    for delegator_id, delegator in delegator_dict.items():\n",
    "        if delegator_id not in delegator_revenue_token_holdings:\n",
    "            delegator_revenue_token_holdings[delegator_id] = {}\n",
    "            delegator_shares[delegator_id] = {}\n",
    "        delegator_revenue_token_holdings[delegator_id][timestep] = delegator.revenue_token_holdings\n",
    "        delegator_shares[delegator_id][timestep] = delegator.shares\n",
    "        \n",
    "    timestep += 1"
   ]
  },
  {
   "cell_type": "markdown",
   "metadata": {},
   "source": [
    "# Shares broken down by Delegator"
   ]
  },
  {
   "cell_type": "code",
   "execution_count": null,
   "metadata": {},
   "outputs": [],
   "source": [
    "\n",
    "\n",
    "df_plot = pd.DataFrame(delegator_shares)\n",
    "df_plot.plot(kind='area')\n",
    "plt.gca().legend(loc=9, bbox_to_anchor=(2.5, 1), ncol=12)\n",
    "plt.title('Shares Owned By Delegators')\n",
    "plt.xlabel('Epoch Number')\n",
    "plt.ylabel('Delegator Shares')"
   ]
  },
  {
   "cell_type": "markdown",
   "metadata": {},
   "source": [
    "# Cumulative Revenue Token Holdings\n",
    "\n"
   ]
  },
  {
   "cell_type": "code",
   "execution_count": null,
   "metadata": {},
   "outputs": [],
   "source": [
    "df_plot = pd.DataFrame(delegator_revenue_token_holdings)\n",
    "df_plot.plot(kind='area')\n",
    "plt.gca().legend(loc=9, bbox_to_anchor=(2.5, 1), ncol=12)\n",
    "plt.title('Cumulative Revenue Token Holdings')\n",
    "plt.xlabel('Epoch Number')\n",
    "plt.ylabel('Revenue Token Holdings')"
   ]
  },
  {
   "cell_type": "markdown",
   "metadata": {},
   "source": [
    "Exploratory data analysis"
   ]
  },
  {
   "cell_type": "code",
   "execution_count": null,
   "metadata": {},
   "outputs": [],
   "source": [
    "df['shareholders'] = df.delegators.apply(lambda x: [k for k in x.keys() if x[k].shares>0] )"
   ]
  },
  {
   "cell_type": "code",
   "execution_count": null,
   "metadata": {},
   "outputs": [],
   "source": [
    "df['shares'] = df.delegators.apply(lambda x: [x[k].shares for k in x.keys() if x[k].shares>0] )"
   ]
  },
  {
   "cell_type": "code",
   "execution_count": null,
   "metadata": {},
   "outputs": [],
   "source": [
    "# cannot currently do this but i want to for plotting purposes\n",
    "# df['private_prices'] = df.delegators.apply(lambda x: [x[k].private_price for k in x.keys()] )\n",
    "df['private_prices'] = df.delegators.apply(lambda x: {k: x[k].private_price for k in x.keys()} )"
   ]
  },
  {
   "cell_type": "code",
   "execution_count": null,
   "metadata": {},
   "outputs": [],
   "source": [
    "df_list = []\n",
    "for t in range(len(df)):\n",
    "    temp_df = pd.DataFrame({'shareholder':df.shareholders.iloc[t] , 'shares':df.shares.iloc[t]})\n",
    "    temp_df['Epoch Number'] = t\n",
    "\n",
    "    df_list.append(temp_df)\n",
    "\n",
    "shareholder_df = pd.concat(df_list)"
   ]
  },
  {
   "cell_type": "code",
   "execution_count": null,
   "metadata": {},
   "outputs": [],
   "source": [
    "shareholder_df"
   ]
  },
  {
   "cell_type": "markdown",
   "metadata": {},
   "source": [
    "# Price per share"
   ]
  },
  {
   "cell_type": "code",
   "execution_count": null,
   "metadata": {},
   "outputs": [],
   "source": [
    "df.spot_price.plot()"
   ]
  },
  {
   "cell_type": "code",
   "execution_count": null,
   "metadata": {},
   "outputs": [],
   "source": [
    "df['period_revenue_per_share'] = df.period_revenue/df.supply"
   ]
  },
  {
   "cell_type": "markdown",
   "metadata": {},
   "source": [
    "# Revenue per share "
   ]
  },
  {
   "cell_type": "code",
   "execution_count": null,
   "metadata": {},
   "outputs": [],
   "source": [
    "df.period_revenue_per_share.plot()"
   ]
  },
  {
   "cell_type": "markdown",
   "metadata": {},
   "source": [
    "# Estimated Share Valuation"
   ]
  },
  {
   "cell_type": "code",
   "execution_count": null,
   "metadata": {},
   "outputs": [],
   "source": [
    "#estimated share valuation\n",
    "risk_adj = .7 #if agents get their own param then there exists an estimated value of this system level param\n",
    "discount_factor = .95 #if agents get their own param there exist an estimated value of this systel level param\n",
    "\n",
    "df['share_valuation'] = df.spot_price * risk_adj + df.period_revenue_per_share / (1 - discount_factor)\n",
    "df['ewm_share_valuation'] = df.share_valuation.ewm(halflife = 10).mean()"
   ]
  },
  {
   "cell_type": "code",
   "execution_count": null,
   "metadata": {},
   "outputs": [],
   "source": [
    "df[['share_valuation', 'spot_price', 'ewm_share_valuation', 'timestep']].plot(x='timestep', color='ybg')"
   ]
  },
  {
   "cell_type": "code",
   "execution_count": null,
   "metadata": {},
   "outputs": [],
   "source": [
    "df.columns"
   ]
  },
  {
   "cell_type": "code",
   "execution_count": null,
   "metadata": {},
   "outputs": [],
   "source": [
    "import matplotlib.pylab as plt\n",
    "df[1:7501:15]\n",
    "x = range(500)\n",
    "# for t in range(1,7501,15):\n",
    "d = df['private_prices']\n",
    "timestep = 0\n",
    "delegateId = 0\n",
    "x1 = []\n",
    "y1 = []\n",
    "fix, ax = plt.subplots()\n",
    "\n",
    "for timestep in x:\n",
    "    for delegateId in range(25):    \n",
    "        # The data has to be in the form x = [timesteps], y = [values]\n",
    "        # the data is in the form y = dict({key=delegator, value=})\n",
    "        if delegateId in d[timestep]:\n",
    "            x1.append(timestep)\n",
    "            y1.append(d[timestep][delegateId])\n",
    "    plt.plot(x1, y1)\n",
    "\n",
    "        # print(d[timestep][delegateId])\n",
    "        # y = [y for y in d]\n",
    "    # d = df['private_prices'][i]\n",
    "\n",
    "# print(d[40])\n",
    "# print(df['private_prices'])\n",
    "# lists = sorted(d.items())\n",
    "# print(lists)\n",
    "# x, y = zip(*lists) # unpack a list of pairs into two tuples\n",
    "# print(y)\n",
    "# # plt.plot(x, y)\n",
    "plt.title('Private Price Estimates for first 25 Delegators')\n",
    "plt.ylabel('Delegator Price Estimate')\n",
    "plt.xlabel('Timestep')\n",
    "\n",
    "# plt.show()"
   ]
  }
 ],
 "metadata": {
  "kernelspec": {
   "display_name": "Python 3",
   "language": "python",
   "name": "python3"
  },
  "language_info": {
   "codemirror_mode": {
    "name": "ipython",
    "version": 3
   },
   "file_extension": ".py",
   "mimetype": "text/x-python",
   "name": "python",
   "nbconvert_exporter": "python",
   "pygments_lexer": "ipython3",
   "version": "3.8.5-final"
  }
 },
 "nbformat": 4,
 "nbformat_minor": 4
}