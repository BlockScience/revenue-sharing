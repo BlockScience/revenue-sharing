{
 "cells": [
  {
   "cell_type": "markdown",
   "metadata": {},
   "source": [
    "# cadCAD Experiment\n",
    "Over 500 timesteps, money comes in to the system each timestep and is distributed to delegators according to the proportion of shares they have bought.  The share price and number are tied to a bonding curve.  \n",
    "\n",
    "They purchase shares in the system according to their belief of the future revenue streams."
   ]
  },
  {
   "cell_type": "code",
   "execution_count": null,
   "metadata": {
    "tags": []
   },
   "outputs": [],
   "source": [
    "# if this crashes, run this:\n",
    "# pip install ipython-autotime\n",
    "%load_ext autotime\n",
    "%load_ext autoreload\n",
    "%autoreload 2\n",
    "import sys\n",
    "sys.path.append(\"..\")"
   ]
  },
  {
   "cell_type": "code",
   "execution_count": null,
   "metadata": {},
   "outputs": [],
   "source": [
    "import matplotlib.pyplot as plt\n",
    "from model.run import run\n",
    "\n",
    "# df = run()\n"
   ]
  },
  {
   "cell_type": "code",
   "execution_count": null,
   "metadata": {},
   "outputs": [],
   "source": [
    "from cadCAD_tools import profile_run\n",
    "\n",
    "from model.psub import psubs\n",
    "from model.state import genesis_state\n",
    "from model.config import simulation_config\n",
    "from model.config import params\n",
    "\n",
    "TIMESTEPS = len(simulation_config[0]['T'])\n",
    "SAMPLES = simulation_config[0]['N'] \n",
    "# df = run()\n",
    "df = profile_run(genesis_state,\n",
    "                 params,\n",
    "                 psubs,\n",
    "                 TIMESTEPS,\n",
    "                 SAMPLES)\n",
    "from cadCAD_tools.profiling.visualizations import visualize_substep_impact\n",
    "\n",
    "visualize_substep_impact(df, relative=True)\n"
   ]
  },
  {
   "cell_type": "code",
   "execution_count": null,
   "metadata": {},
   "outputs": [],
   "source": [
    "max_substep = max(df.substep)\n",
    "print(max_substep)\n",
    "df = df[df.substep==max_substep].reset_index()"
   ]
  },
  {
   "cell_type": "code",
   "execution_count": null,
   "metadata": {},
   "outputs": [],
   "source": [
    "df"
   ]
  },
  {
   "cell_type": "markdown",
   "metadata": {},
   "source": [
    "# Revenue coming in each period.  \n",
    "### Mean is an exponentially distributed parameter.  \n",
    "\n",
    "## Shock to the system @ timestep 250.\n",
    "### Timsteps 1-250: mean=7\n",
    "### Timesteps 251-500: mean=70\n",
    "\n"
   ]
  },
  {
   "cell_type": "code",
   "execution_count": null,
   "metadata": {},
   "outputs": [],
   "source": [
    "df.period_revenue.plot()"
   ]
  },
  {
   "cell_type": "code",
   "execution_count": null,
   "metadata": {},
   "outputs": [],
   "source": [
    "import pandas as pd\n",
    "df1 = df.reset_index().delegators\n",
    "\n",
    "delegator_revenue_token_holdings = {}\n",
    "delegator_shares = {}\n",
    "timestep = 0\n",
    "for delegator_dict in df1:\n",
    "    for delegator_id, delegator in delegator_dict.items():\n",
    "        if delegator_id not in delegator_revenue_token_holdings:\n",
    "            delegator_revenue_token_holdings[delegator_id] = {}\n",
    "            delegator_shares[delegator_id] = {}\n",
    "        delegator_revenue_token_holdings[delegator_id][timestep] = delegator.revenue_token_holdings\n",
    "        delegator_shares[delegator_id][timestep] = delegator.shares\n",
    "        \n",
    "    timestep += 1"
   ]
  },
  {
   "cell_type": "markdown",
   "metadata": {},
   "source": []
  },
  {
   "cell_type": "markdown",
   "metadata": {},
   "source": [
    "# Shares broken down by Delegator\n",
    "This shows a stacked plot with the sum of shares owned by the individual delegators. There is a jump in shares at the shock point at timestep = 250 where the dividend value from owning the shares increases 10x.\n",
    "\n",
    "<table class=\"tg\">\n",
    "<thead>\n",
    "  <tr>\n",
    "    <th>Delegator ID</th>\n",
    "    <th>Delegator Type</th>\n",
    "    <th>Delegator Pricing Model</th>\n",
    "    <th>Delegator Description</th>\n",
    "  </tr>\n",
    "</thead>\n",
    "<tbody>\n",
    "  <tr>\n",
    "    <td>0</td>\n",
    "    <td>Owner</td>\n",
    "    <td>Value</td>\n",
    "    <td>spot_price will converge to the value of the revenue stream.</td>\n",
    "  </tr>\n",
    "  <tr>\n",
    "    <td>1</td>\n",
    "    <td>Non-Owner</td>\n",
    "    <td>Regression to Mean</td>\n",
    "    <td>spot_price will return to what it used to be.</td>\n",
    "  </tr>\n",
    "  <tr>\n",
    "    <td>2</td>\n",
    "    <td>Non-Owner</td>\n",
    "    <td>Value</td>\n",
    "    <td>spot_price will converge to the value of the revenue stream.</td>\n",
    "  </tr>\n",
    "  <tr>\n",
    "    <td>3</td>\n",
    "    <td>Non-Owner</td>\n",
    "    <td>Trendline</td>\n",
    "    <td>spot_price will continue moving in the same direction as it has in the past.</td>\n",
    "  </tr>\n",
    "</tbody>\n",
    "</table>\n",
    "\n",
    "\n",
    "#### NOTE: The delegators act in randomized order, so 0 and 2 will not have the same result."
   ]
  },
  {
   "cell_type": "code",
   "execution_count": null,
   "metadata": {},
   "outputs": [],
   "source": [
    "\n",
    "\n",
    "df_plot = pd.DataFrame(delegator_shares)\n",
    "df_plot.plot(kind='area')\n",
    "plt.gca().legend(loc=9, bbox_to_anchor=(2.5, 1), ncol=12)\n",
    "plt.title('Shares Owned By Delegators')\n",
    "plt.xlabel('Epoch Number')\n",
    "plt.ylabel('Delegator Shares')"
   ]
  },
  {
   "cell_type": "markdown",
   "metadata": {},
   "source": [
    "# Cumulative Revenue Token Holdings\n",
    "\n"
   ]
  },
  {
   "cell_type": "code",
   "execution_count": null,
   "metadata": {},
   "outputs": [],
   "source": [
    "df_plot = pd.DataFrame(delegator_revenue_token_holdings)\n",
    "df_plot.plot(kind='area')\n",
    "plt.gca().legend(loc=9, bbox_to_anchor=(2.5, 1), ncol=12)\n",
    "plt.title('Cumulative Revenue Token Holdings')\n",
    "plt.xlabel('Epoch Number')\n",
    "plt.ylabel('Revenue Token Holdings')"
   ]
  },
  {
   "cell_type": "markdown",
   "metadata": {},
   "source": [
    "Exploratory data analysis"
   ]
  },
  {
   "cell_type": "code",
   "execution_count": null,
   "metadata": {},
   "outputs": [],
   "source": [
    "df['shareholders'] = df.delegators.apply(lambda x: [k for k in x.keys() if x[k].shares>0] )"
   ]
  },
  {
   "cell_type": "code",
   "execution_count": null,
   "metadata": {},
   "outputs": [],
   "source": [
    "df['shares'] = df.delegators.apply(lambda x: [x[k].shares for k in x.keys() if x[k].shares>0] )"
   ]
  },
  {
   "cell_type": "code",
   "execution_count": null,
   "metadata": {},
   "outputs": [],
   "source": [
    "df_list = []\n",
    "for t in range(len(df)):\n",
    "    temp_df = pd.DataFrame({'shareholder':df.shareholders.iloc[t] , 'shares':df.shares.iloc[t]})\n",
    "    temp_df['Epoch Number'] = t\n",
    "\n",
    "    df_list.append(temp_df)\n",
    "\n",
    "shareholder_df = pd.concat(df_list)"
   ]
  },
  {
   "cell_type": "code",
   "execution_count": null,
   "metadata": {},
   "outputs": [],
   "source": [
    "shareholder_df"
   ]
  },
  {
   "cell_type": "markdown",
   "metadata": {},
   "source": [
    "# Price per share"
   ]
  },
  {
   "cell_type": "code",
   "execution_count": null,
   "metadata": {},
   "outputs": [],
   "source": [
    "df.spot_price.plot()"
   ]
  },
  {
   "cell_type": "code",
   "execution_count": null,
   "metadata": {},
   "outputs": [],
   "source": [
    "df['period_revenue_per_share'] = df.period_revenue/df.supply"
   ]
  },
  {
   "cell_type": "markdown",
   "metadata": {},
   "source": [
    "# Revenue per share "
   ]
  },
  {
   "cell_type": "code",
   "execution_count": null,
   "metadata": {},
   "outputs": [],
   "source": [
    "df.period_revenue_per_share.plot()"
   ]
  },
  {
   "cell_type": "markdown",
   "metadata": {},
   "source": [
    "# Estimated Share Valuation"
   ]
  },
  {
   "cell_type": "code",
   "execution_count": null,
   "metadata": {},
   "outputs": [],
   "source": [
    "#estimated share valuation\n",
    "risk_adj = .7 #if agents get their own param then there exists an estimated value of this system level param\n",
    "discount_factor = .95 #if agents get their own param there exist an estimated value of this systel level param\n",
    "\n",
    "df['share_valuation'] = df.spot_price * risk_adj + df.period_revenue_per_share / (1 - discount_factor)\n",
    "df['ewm_share_valuation'] = df.share_valuation.ewm(halflife = 10).mean()"
   ]
  },
  {
   "cell_type": "code",
   "execution_count": null,
   "metadata": {},
   "outputs": [],
   "source": [
    "df[['share_valuation', 'spot_price', 'ewm_share_valuation', 'timestep']].plot(x='timestep', color='ybg')"
   ]
  },
  {
   "cell_type": "code",
   "execution_count": null,
   "metadata": {},
   "outputs": [],
   "source": [
    "df.columns"
   ]
  },
  {
   "cell_type": "code",
   "execution_count": null,
   "metadata": {},
   "outputs": [],
   "source": [
    "# each timestep has a dict with {delegatorId: private_price} \n",
    "df['private_prices'] = df.delegators.apply(lambda x: {k: x[k].private_price for k in x.keys()} )\n",
    "df['regression_to_mean_private_prices'] = df.delegators.apply(lambda x: {k: x[k].regression_to_mean_private_price for k in x.keys()} )\n",
    "df['value_private_prices'] = df.delegators.apply(lambda x: {k: x[k].value_private_price for k in x.keys()} )\n",
    "df['trendline_private_prices'] = df.delegators.apply(lambda x: {k: x[k].trendline_private_price for k in x.keys()} )\n"
   ]
  },
  {
   "cell_type": "code",
   "execution_count": null,
   "metadata": {},
   "outputs": [],
   "source": [
    "import matplotlib.pylab as plt\n",
    "\n",
    "# d = df['regression_to_mean_private_prices']\n",
    "# d = df['value_private_prices']\n",
    "d = df['private_prices']\n",
    "\n",
    "timestep = 0\n",
    "delegateId = 0\n",
    "\n",
    "# initialize a list of 4 lists\n",
    "x = [[] for _ in range(4)]\n",
    "y = [[] for _ in range(4)]\n",
    "\n",
    "fig, ((ax0, ax1), (ax2, ax3)) = plt.subplots(2,2)\n",
    "axs = [ax0, ax1, ax2, ax3]\n",
    "\n",
    "for timestep in range(500):\n",
    "    # print(f'{timestep=}')\n",
    "    for delegateId, price in d[timestep].items():    \n",
    "        # print(f'{delegateId=}, {price=}')\n",
    "        # The data has to be in the form x = [timesteps], y = [values]\n",
    "        # the data is in the form y = dict({key=delegator, value=private_price})        \n",
    "        x[delegateId].append(timestep)\n",
    "        y[delegateId].append(price)\n",
    "        \n",
    "colors = 'rgby'\n",
    "for delegateId in range(4):    \n",
    "    \n",
    "    axs[delegateId].plot(x[delegateId], y[delegateId], colors[delegateId])\n",
    "    if delegateId in (0,2):\n",
    "        axs[delegateId].set_title(f'{delegateId=}, Value')\n",
    "    elif delegateId == 1:\n",
    "        axs[delegateId].set_title(f'{delegateId=}, Regression to Mean')\n",
    "    elif delegateId == 3:\n",
    "        axs[delegateId].set_title(f'{delegateId=}, Trendline')\n",
    "\n",
    "\n",
    "plt.setp(ax0.get_xticklabels(), visible=False)\n",
    "plt.setp(ax1.get_xticklabels(), visible=False)\n",
    "plt.show()\n"
   ]
  },
  {
   "source": [
    "# Questions?\n",
    "* What other parameters can we add to the model?  \n",
    "* What other visualizations would we like to see?"
   ],
   "cell_type": "markdown",
   "metadata": {}
  },
  {
   "cell_type": "code",
   "execution_count": null,
   "metadata": {},
   "outputs": [],
   "source": [
    "# df['regression_to_mean_private_prices']\n",
    "\n",
    "# for i in range(500):\n",
    "#     # print(df['regression_to_mean_private_prices'][i])\n",
    "#     # print(df['value_private_prices'][i])\n",
    "#     # print(df['trendline_private_prices'][i])\n",
    "#     print(i, df['private_prices'][i])"
   ]
  },
  {
   "cell_type": "code",
   "execution_count": null,
   "metadata": {},
   "outputs": [],
   "source": [
    "# show smoothing factors are all different.\n",
    "# for id in range(25):\n",
    "#     print(df.iloc[499].delegators[id].smoothing_factor)"
   ]
  }
 ],
 "metadata": {
  "kernelspec": {
   "name": "python3",
   "display_name": "Python 3.8.3 64-bit ('base': conda)",
   "metadata": {
    "interpreter": {
     "hash": "f42d661b893902ddd87262c24eb17704f504351a72f06bda1bd86b4ebc027368"
    }
   }
  },
  "language_info": {
   "codemirror_mode": {
    "name": "ipython",
    "version": 3
   },
   "file_extension": ".py",
   "mimetype": "text/x-python",
   "name": "python",
   "nbconvert_exporter": "python",
   "pygments_lexer": "ipython3",
   "version": "3.8.3"
  }
 },
 "nbformat": 4,
 "nbformat_minor": 4
}