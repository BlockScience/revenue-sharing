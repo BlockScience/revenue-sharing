{
 "cells": [
  {
   "cell_type": "markdown",
   "metadata": {},
   "source": [
    "# cadCAD Experiment\n",
    "Over 500 timesteps, money comes in to the system each timestep and is distributed to delegators according to the proportion of shares they have bought.  The share price and number are tied to a bonding curve.  \n",
    "\n",
    "They purchase shares in the system according to their belief of the future revenue streams."
   ]
  },
  {
   "cell_type": "code",
   "execution_count": 1,
   "metadata": {
    "tags": []
   },
   "outputs": [
    {
     "output_type": "stream",
     "name": "stdout",
     "text": [
      "time: 32 ms (started: 2021-04-17 16:24:56 -04:00)\n"
     ]
    }
   ],
   "source": [
    "# if this crashes, run this:\n",
    "# pip install ipython-autotime\n",
    "%load_ext autotime\n",
    "%load_ext autoreload\n",
    "%autoreload 2\n",
    "import sys\n",
    "sys.path.append(\"..\")"
   ]
  },
  {
   "cell_type": "code",
   "execution_count": 2,
   "metadata": {},
   "outputs": [
    {
     "output_type": "stream",
     "name": "stdout",
     "text": [
      "time: 437 ms (started: 2021-04-17 16:24:56 -04:00)\n"
     ]
    }
   ],
   "source": [
    "\n",
    "from model.run import run\n",
    "\n",
    "# df = run()\n"
   ]
  },
  {
   "cell_type": "code",
   "execution_count": 3,
   "metadata": {},
   "outputs": [
    {
     "output_type": "stream",
     "name": "stdout",
     "text": [
      "self.id=0, self.delegator_type=2\n",
      "delegator_type=2, normalized_weights=[0, 1, 0]\n",
      "\n",
      "                  ___________    ____\n",
      "  ________ __ ___/ / ____/   |  / __ \\\n",
      " / ___/ __` / __  / /   / /| | / / / /\n",
      "/ /__/ /_/ / /_/ / /___/ ___ |/ /_/ /\n",
      "\\___/\\__,_/\\__,_/\\____/_/  |_/_____/\n",
      "by cadCAD\n",
      "\n",
      "Execution Mode: local_proc\n",
      "Configuration Count: 1\n",
      "Dimensions of the first simulation: (Timesteps, Params, Runs, Vars) = (2000, 19, 2, 7)\n",
      "Execution Method: local_simulations\n",
      "SimIDs   : [0, 0]\n",
      "SubsetIDs: [0, 1]\n",
      "Ns       : [0, 1]\n",
      "ExpIDs   : [0, 0]\n",
      "Execution Mode: parallelized\n",
      "reserve_token_holdings=10000\n",
      "smoothing_factor=0.1\n",
      "self.id=1, self.delegator_type=1\n",
      "delegator_type=1, normalized_weights=[1, 0, 0]\n",
      "reserve_token_holdings=10000\n",
      "smoothing_factor=0.1\n",
      "self.id=2, self.delegator_type=2\n",
      "delegator_type=2, normalized_weights=[0, 1, 0]\n",
      "reserve_token_holdings=10000\n",
      "smoothing_factor=0.1\n",
      "self.id=3, self.delegator_type=3\n",
      "delegator_type=3, normalized_weights=[0, 0, 1]\n",
      "reserve_token_holdings=10000\n",
      "smoothing_factor=0.9\n",
      "self.id=4, self.delegator_type=1\n",
      "delegator_type=1, normalized_weights=[1, 0, 0]\n",
      "reserve_token_holdings=10000\n",
      "smoothing_factor=0.9\n",
      "self.id=5, self.delegator_type=2\n",
      "delegator_type=2, normalized_weights=[0, 1, 0]\n",
      "reserve_token_holdings=10000\n",
      "smoothing_factor=0.9\n",
      "self.id=6, self.delegator_type=3\n",
      "delegator_type=3, normalized_weights=[0, 0, 1]\n",
      "Total execution time: 29.39s\n",
      "{'initial_reserve': 10, 'initial_supply': 10, 'owners_share': 0.25, 'arrival_rate': 0.5, 'expected_reserve_token_holdings': 10000, 'delegator_estimation_noise_mean': 0, 'delegator_estimation_noise_variance': 1, 'reserve_to_revenue_token_exchange_rate': 1, 'delegator_activity_rate': 0.5, 'mininum_required_price_pct_diff_to_act': 0.02, 'risk_adjustment': 0.7, 'half_life_vesting_rate': 0.5, 'cliff_vesting_timesteps': 14, 'num_days_for_trends': 14, 'halflife': 0.5, 'mean_discount_rate': 0.7, 'mean_smoothing_factor': 0.1, 'max_delegator_count': 4, 'shock_factor': 10}\n",
      "time: 30.3 s (started: 2021-04-17 16:24:23 -04:00)\n"
     ]
    }
   ],
   "source": [
    "from cadCAD_tools import profile_run\n",
    "\n",
    "from model.psub import psubs\n",
    "from model.state import genesis_state\n",
    "from model.config import simulation_config\n",
    "from model.config import params\n",
    "\n",
    "TIMESTEPS = len(simulation_config[0]['T'])\n",
    "SAMPLES = simulation_config[0]['N'] \n",
    "# df = run()\n",
    "df = profile_run(genesis_state,\n",
    "                 params,\n",
    "                 psubs,\n",
    "                 TIMESTEPS,\n",
    "                 SAMPLES)\n",
    "\n"
   ]
  },
  {
   "cell_type": "code",
   "execution_count": 4,
   "metadata": {},
   "outputs": [
    {
     "output_type": "stream",
     "name": "stdout",
     "text": [
      "time: 47 ms (started: 2021-04-17 16:24:53 -04:00)\n"
     ]
    }
   ],
   "source": [
    "# from cadCAD_tools.profiling.visualizations import visualize_substep_impact\n",
    "\n",
    "# visualize_substep_impact(df, relative=True)"
   ]
  },
  {
   "cell_type": "code",
   "execution_count": 5,
   "metadata": {},
   "outputs": [
    {
     "output_type": "stream",
     "name": "stdout",
     "text": [
      "17\n[ 0  1  2  3  4  5  6  7  8  9 10 11 12 13 14 15 16 17]\ntime: 47 ms (started: 2021-04-17 16:24:53 -04:00)\n"
     ]
    }
   ],
   "source": [
    "max_substep = max(df.substep)\n",
    "print(max_substep)\n",
    "df = df[df.substep==max_substep].reset_index()\n",
    "print(df.substep.unique())"
   ]
  },
  {
   "cell_type": "code",
   "execution_count": 6,
   "metadata": {},
   "outputs": [],
   "source": [
    "import pickle\n",
    "pickle.dump(df, open('experiment.p', 'wb'))"
   ]
  },
  {
   "cell_type": "code",
   "execution_count": 38,
   "metadata": {},
   "outputs": [
    {
     "output_type": "stream",
     "name": "stdout",
     "text": [
      "time: 78 ms (started: 2021-04-16 14:44:27 -04:00)\n"
     ]
    }
   ],
   "source": [
    "# df.substep[0:20]\n",
    "# data frame with:\n",
    "# simulation, subset, timestep, substep\n",
    "df1 = df[[\"simulation\", \"subset\", \"run\", \"timestep\", \"substep\"]]"
   ]
  },
  {
   "cell_type": "code",
   "execution_count": 39,
   "metadata": {},
   "outputs": [
    {
     "output_type": "execute_result",
     "data": {
      "text/plain": [
       "array([   0,    1,    2, ..., 1998, 1999, 2000], dtype=int64)"
      ]
     },
     "metadata": {},
     "execution_count": 39
    },
    {
     "output_type": "stream",
     "name": "stdout",
     "text": [
      "time: 63 ms (started: 2021-04-16 14:44:27 -04:00)\n"
     ]
    }
   ],
   "source": [
    "df1.timestep.unique()"
   ]
  },
  {
   "cell_type": "code",
   "execution_count": null,
   "metadata": {},
   "outputs": [],
   "source": []
  },
  {
   "cell_type": "code",
   "execution_count": 50,
   "metadata": {},
   "outputs": [
    {
     "output_type": "execute_result",
     "data": {
      "text/plain": [
       "array([ 0,  1,  2,  3,  4,  5,  6,  7,  8,  9, 10, 11, 12, 13, 14, 15, 16,\n",
       "       17], dtype=int64)"
      ]
     },
     "metadata": {},
     "execution_count": 50
    },
    {
     "output_type": "stream",
     "name": "stdout",
     "text": [
      "time: 62 ms (started: 2021-04-16 14:46:46 -04:00)\n"
     ]
    }
   ],
   "source": [
    "df1.substep.unique()"
   ]
  },
  {
   "cell_type": "code",
   "execution_count": 48,
   "metadata": {},
   "outputs": [
    {
     "output_type": "execute_result",
     "data": {
      "text/plain": [
       "    simulation  subset  run  timestep  substep\n",
       "1            0       0    1         1        1\n",
       "2            0       0    1         1        2\n",
       "3            0       0    1         1        3\n",
       "4            0       0    1         1        4\n",
       "5            0       0    1         1        5\n",
       "6            0       0    1         1        6\n",
       "7            0       0    1         1        7\n",
       "8            0       0    1         1        8\n",
       "9            0       0    1         1        9\n",
       "10           0       0    1         1       10\n",
       "11           0       0    1         1       11\n",
       "12           0       0    1         1       12\n",
       "13           0       0    1         1       13\n",
       "14           0       0    1         1       14\n",
       "15           0       0    1         1       15\n",
       "16           0       0    1         1       16\n",
       "17           0       0    1         1       17"
      ],
      "text/html": "<div>\n<style scoped>\n    .dataframe tbody tr th:only-of-type {\n        vertical-align: middle;\n    }\n\n    .dataframe tbody tr th {\n        vertical-align: top;\n    }\n\n    .dataframe thead th {\n        text-align: right;\n    }\n</style>\n<table border=\"1\" class=\"dataframe\">\n  <thead>\n    <tr style=\"text-align: right;\">\n      <th></th>\n      <th>simulation</th>\n      <th>subset</th>\n      <th>run</th>\n      <th>timestep</th>\n      <th>substep</th>\n    </tr>\n  </thead>\n  <tbody>\n    <tr>\n      <th>1</th>\n      <td>0</td>\n      <td>0</td>\n      <td>1</td>\n      <td>1</td>\n      <td>1</td>\n    </tr>\n    <tr>\n      <th>2</th>\n      <td>0</td>\n      <td>0</td>\n      <td>1</td>\n      <td>1</td>\n      <td>2</td>\n    </tr>\n    <tr>\n      <th>3</th>\n      <td>0</td>\n      <td>0</td>\n      <td>1</td>\n      <td>1</td>\n      <td>3</td>\n    </tr>\n    <tr>\n      <th>4</th>\n      <td>0</td>\n      <td>0</td>\n      <td>1</td>\n      <td>1</td>\n      <td>4</td>\n    </tr>\n    <tr>\n      <th>5</th>\n      <td>0</td>\n      <td>0</td>\n      <td>1</td>\n      <td>1</td>\n      <td>5</td>\n    </tr>\n    <tr>\n      <th>6</th>\n      <td>0</td>\n      <td>0</td>\n      <td>1</td>\n      <td>1</td>\n      <td>6</td>\n    </tr>\n    <tr>\n      <th>7</th>\n      <td>0</td>\n      <td>0</td>\n      <td>1</td>\n      <td>1</td>\n      <td>7</td>\n    </tr>\n    <tr>\n      <th>8</th>\n      <td>0</td>\n      <td>0</td>\n      <td>1</td>\n      <td>1</td>\n      <td>8</td>\n    </tr>\n    <tr>\n      <th>9</th>\n      <td>0</td>\n      <td>0</td>\n      <td>1</td>\n      <td>1</td>\n      <td>9</td>\n    </tr>\n    <tr>\n      <th>10</th>\n      <td>0</td>\n      <td>0</td>\n      <td>1</td>\n      <td>1</td>\n      <td>10</td>\n    </tr>\n    <tr>\n      <th>11</th>\n      <td>0</td>\n      <td>0</td>\n      <td>1</td>\n      <td>1</td>\n      <td>11</td>\n    </tr>\n    <tr>\n      <th>12</th>\n      <td>0</td>\n      <td>0</td>\n      <td>1</td>\n      <td>1</td>\n      <td>12</td>\n    </tr>\n    <tr>\n      <th>13</th>\n      <td>0</td>\n      <td>0</td>\n      <td>1</td>\n      <td>1</td>\n      <td>13</td>\n    </tr>\n    <tr>\n      <th>14</th>\n      <td>0</td>\n      <td>0</td>\n      <td>1</td>\n      <td>1</td>\n      <td>14</td>\n    </tr>\n    <tr>\n      <th>15</th>\n      <td>0</td>\n      <td>0</td>\n      <td>1</td>\n      <td>1</td>\n      <td>15</td>\n    </tr>\n    <tr>\n      <th>16</th>\n      <td>0</td>\n      <td>0</td>\n      <td>1</td>\n      <td>1</td>\n      <td>16</td>\n    </tr>\n    <tr>\n      <th>17</th>\n      <td>0</td>\n      <td>0</td>\n      <td>1</td>\n      <td>1</td>\n      <td>17</td>\n    </tr>\n  </tbody>\n</table>\n</div>"
     },
     "metadata": {},
     "execution_count": 48
    },
    {
     "output_type": "stream",
     "name": "stdout",
     "text": [
      "time: 78 ms (started: 2021-04-16 14:45:36 -04:00)\n"
     ]
    }
   ],
   "source": [
    "# df where timestep == 1\n",
    "# simulation_config = configuration.utils.config_sim({\n",
    "#     'T': range(2000),\n",
    "#     'N': 1,\n",
    "#     'M': params\n",
    "# })\n",
    "\n",
    "df1[((df1.timestep == 1) & (df1.run == 1) & (df1.subset == 0))]"
   ]
  }
 ],
 "metadata": {
  "kernelspec": {
   "name": "python385jvsc74a57bd0ff01ba64261f8397de0ac8a48cd5dfe75e6486a52ad79bcd26ac16ede9d241b1",
   "display_name": "Python 3.8.5 64-bit (conda)"
  },
  "language_info": {
   "codemirror_mode": {
    "name": "ipython",
    "version": 3
   },
   "file_extension": ".py",
   "mimetype": "text/x-python",
   "name": "python",
   "nbconvert_exporter": "python",
   "pygments_lexer": "ipython3",
   "version": "3.8.5-final"
  }
 },
 "nbformat": 4,
 "nbformat_minor": 4
}